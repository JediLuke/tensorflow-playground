{
  "metadata": {
    "kernelspec": {
      "display_name": "Python 3",
      "language": "python",
      "name": "python3"
    },
    "language_info": {
      "codemirror_mode": {
        "name": "ipython",
        "version": 3
      },
      "file_extension": ".py",
      "mimetype": "text/x-python",
      "name": "python",
      "nbconvert_exporter": "python",
      "pygments_lexer": "ipython3",
      "version": "3.6.0"
    }
  },
  "nbformat": 4,
  "nbformat_minor": 0,
  "cells": [
    {
      "cell_type": "markdown",
      "source": "## Simple classification using TensorFlow's [DNNClassifier][1]\n\nThe code is divided in following steps:\n\n - Load CSVs data\n - Converting categorical value to numeric\n - Creating test and train dataset\n - Defining Classification Model\n - Training and Evaluating Our Model\n - Correlation between features\n \n **Change log:**\n \n v2: Added Correlation graph\n \n v1: Created basic tensorflow classification model\n\n  [1]: https://www.tensorflow.org/versions/master/api_docs/python/contrib.learn.html#DNNClassifier",
      "metadata": {}
    },
    {
      "cell_type": "code",
      "source": "import pandas as pd\nfrom sklearn.model_selection import train_test_split\nfrom sklearn.preprocessing import LabelEncoder\nfrom sklearn import metrics\nimport tensorflow as tf\ntf.logging.set_verbosity(tf.logging.ERROR)\n\nimport warnings\nwarnings.filterwarnings(\"ignore\")\n\nimport matplotlib.pyplot as plt\nimport seaborn as sns\n%matplotlib inline",
      "execution_count": null,
      "outputs": [],
      "metadata": {}
    },
    {
      "cell_type": "markdown",
      "source": "## Load CSVs data",
      "metadata": {}
    },
    {
      "cell_type": "code",
      "source": "df = pd.read_csv('../input/mushrooms.csv')\ndf.head(2)",
      "execution_count": null,
      "outputs": [],
      "metadata": {}
    },
    {
      "cell_type": "markdown",
      "source": "## Converting categorical value to numeric\n\nAlso save features and target values in different variables, this will be helpful while test/train split",
      "metadata": {}
    },
    {
      "cell_type": "code",
      "source": "le = LabelEncoder()\n\nfeatures = list(df.columns.values)\n\nfor i in features:\n    df[i] = le.fit_transform(df[i])\n\nfeatures.remove('class')\n\nX = df[features]\ny = le.fit_transform(df['class'])\n\ndf.head(2)",
      "execution_count": null,
      "outputs": [],
      "metadata": {}
    },
    {
      "cell_type": "markdown",
      "source": "## Create test and train dataset",
      "metadata": {}
    },
    {
      "cell_type": "code",
      "source": "X_train, X_test, y_train, y_test = train_test_split(X, y, test_size=0.2, random_state=32)\n\nprint(\"X_train = {}, y_train = {}\".format(X_train.shape, y_train.shape))\nprint(\"X_test = {}, y_test = {}\".format(X_test.shape, y_test.shape))",
      "execution_count": null,
      "outputs": [],
      "metadata": {}
    },
    {
      "cell_type": "markdown",
      "source": "## Define Classification Model",
      "metadata": {}
    },
    {
      "cell_type": "code",
      "source": "feature_columns = [tf.contrib.layers.real_valued_column(\"\", dimension=X_train.shape[1])]\n\n# Build 3 layer DNN with 10, 20, 10 units respectively.\nclassifier = tf.contrib.learn.DNNClassifier(feature_columns=feature_columns,\n                                            hidden_units=[10, 20, 10],\n                                            n_classes=2)",
      "execution_count": null,
      "outputs": [],
      "metadata": {}
    },
    {
      "cell_type": "markdown",
      "source": "## Train and Evaluate the Model",
      "metadata": {}
    },
    {
      "cell_type": "code",
      "source": "wrap = classifier.fit(X_train, y_train, batch_size=100, steps=2000)",
      "execution_count": null,
      "outputs": [],
      "metadata": {}
    },
    {
      "cell_type": "code",
      "source": "score = metrics.accuracy_score(y_test, list(classifier.predict(X_test)))\nprint('Accuracy: {0:f}'.format(score))",
      "execution_count": null,
      "outputs": [],
      "metadata": {}
    },
    {
      "cell_type": "markdown",
      "source": "## Correlation between features",
      "metadata": {}
    },
    {
      "cell_type": "code",
      "source": "df = df.drop('class', 1)\n\nsns.set(font_scale=0.6)\n\ncorrelation = df.corr()\nplt.figure(figsize=(10,7))\nsns.heatmap(correlation, vmax=1, square=True, annot=True, cmap='viridis', fmt='.1f')\n\nwrap = plt.title('Correlation between different features')",
      "execution_count": null,
      "outputs": [],
      "metadata": {}
    }
  ]
}